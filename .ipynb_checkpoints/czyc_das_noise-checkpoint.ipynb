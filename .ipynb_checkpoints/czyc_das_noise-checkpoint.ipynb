{
 "cells": [
  {
   "cell_type": "markdown",
   "metadata": {},
   "source": [
    "### overall skam  Preview the raw data"
   ]
  },
  {
   "cell_type": "code",
   "execution_count": 1,
   "metadata": {},
   "outputs": [
    {
     "name": "stderr",
     "output_type": "stream",
     "text": [
      "/home/kiwicat/miniconda3/lib/python3.11/site-packages/scipy/__init__.py:155: UserWarning: A NumPy version >=1.18.5 and <1.26.0 is required for this version of SciPy (detected version 1.26.4\n",
      "  warnings.warn(f\"A NumPy version >={np_minversion} and <{np_maxversion}\"\n"
     ]
    }
   ],
   "source": [
    "import glob\n",
    "from scipy import signal\n",
    "import numpy as np\n",
    "import matplotlib.pyplot as plt\n",
    "from DasTools import DasPrep as dp\n",
    "import os\n",
    "import datetime\n",
    "import matplotlib\n",
    "import logging\n",
    "import csv\n",
    "\n",
    "# logging.basicConfig(filename='output.log' , level= logging.DEBUG)\n",
    "# print = logging.debug\n",
    "\n",
    "def skam(flist , M = 200 , sample_second_space = 15 , sample_fre = 1000 ,  start = 0 , span = 20):\n",
    "    datalist = []\n",
    "    # timelist = []\n",
    "    timestring = [] \n",
    "    \n",
    "    re_sample_fre = sample_fre // M\n",
    "    # print(re_sample_fre)\n",
    "    # print(flist)\n",
    "\n",
    "    # re_sample_step =  sample_second_space* re_sample_fre \n",
    "    # for fname in flist[6755:6785]:\n",
    "    for fname in flist[ start : start + span ]:\n",
    "        # starttime = int(fname[-13:-7])*1000\n",
    "        # timestring.append(fname[-13 : -7])\n",
    "        utc_datetime = datetime.datetime.strptime(fname[-22 : -7],'%Y%m%d_%H%M%S') + datetime.timedelta(hours=+8)\n",
    "        timestring.append(utc_datetime.time())\n",
    "\n",
    "        # time = np.linspace(starttime, starttime+sample_second_space*1000,re_sample_step )\n",
    "        # timelist.append(time)\n",
    "        \n",
    "        data = dp.read_das(fname)\n",
    "        # raw_clim = max( data.std() / 10 , raw_clim)\n",
    "        # data = signal.decimate(data, M, axis = 1)\n",
    "        datalist.append(data)\n",
    "\n",
    "\n",
    "    data = np.concatenate(datalist, axis = 1)\n",
    "    data = signal.decimate(data, M, axis = 1)\n",
    "\n",
    "    # data.shape (#channle , re_sample_fre * sample_second_space * span)\n",
    "    step_per_file = re_sample_fre * sample_second_space\n",
    "    step_this_span = span * step_per_file \n",
    "    timeindex = range(0 , step_this_span ,step_per_file)\n",
    "    # time = np.concatenate(timelist)\n",
    "    # print(data.shape , len(timestring))\n",
    "\n",
    "    return data , timestring , timeindex\n",
    "\n",
    "def cal_std(flist , csv_writer,  M = 200 , sample_second_space = 15 , sample_fre = 1000 ,  start = 0 , span = 20):\n",
    " \n",
    "    datalist = []\n",
    "    timestring = [] \n",
    "    std  = []\n",
    "    re_sample_fre = sample_fre // M\n",
    "\n",
    "    print(\"std of \"+str(sample_second_space * span) + \"seconds\")\n",
    "\n",
    "    if span > 1:\n",
    "        for fname in flist[ start : start + span ]:\n",
    "            utc_datetime = datetime.datetime.strptime(fname[-22 : -7],'%Y%m%d_%H%M%S') + datetime.timedelta(hours=+8)\n",
    "            timestring.append(utc_datetime.time())         \n",
    "            data = dp.read_das(fname,ch1=820,ch2=900)\n",
    "            datalist.append(data)\n",
    "        data = np.concatenate(datalist, axis = 1)\n",
    "        data = signal.decimate(data, M, axis = 1)\n",
    "\n",
    "        std.append(data.std())\n",
    "    if span < 1:\n",
    "        fname = flist[start]\n",
    "        data = dp.read_das(fname,ch1=820,ch2=900)\n",
    "        data = signal.decimate(data, M, axis = 1)\n",
    "\n",
    "        utc_datetime = datetime.datetime.strptime(fname[-22 : -7],'%Y%m%d_%H%M%S') + datetime.timedelta(hours=+8)\n",
    "        timedelta = sample_second_space*span\n",
    "        step_per_file = re_sample_fre * sample_second_space\n",
    "        step_std_span = span * step_per_file \n",
    "        for i in range(0 ,  int(1/span)):\n",
    "            std_i = data[ : , int( i * step_std_span): int ((i+1)* step_std_span )].std()\n",
    "            std.append(std_i)\n",
    "            utc_datetime = utc_datetime + datetime.timedelta(seconds=timedelta)\n",
    "            timestring.append(utc_datetime.time().strftime(\"%H:%M:%S.%f\")[:-3])         \n",
    "            csv_writer.writerow([str(utc_datetime.time().strftime(\"%H:%M:%S.%f\")[:-3])+\" \" , str(std_i) ])\n",
    "    return timestring , std\n",
    "\n",
    "\n",
    "\n",
    "def plot_timeticks(data , timestring , timeindex , clim_rate = 10 ,title = \"Figue.png\") :\n",
    "    plt.figure(figsize=[18,4])\n",
    "    plt.title(title)\n",
    "\n",
    "    clim= data.std() \n",
    "    d_clim = data.std() / clim_rate\n",
    "    # norm = matplotlib.colors.Normalize(vmin=-clim, vmax=+clim)\n",
    "\n",
    "    print(clim)\n",
    "    plt.xticks(timeindex,timestring,rotation = 20, ha = 'right')\n",
    "    plt.yticks(range(0,80,10),range(820,900,10))\n",
    "    plt.imshow(data, aspect='auto', cmap='RdBu', vmin=-d_clim, vmax=d_clim )\n",
    "    # plt.imshow(data, aspect='auto', cmap='RdBu', norm=norm )\n",
    "    plt.xlabel(\"clim / \" + str(clim))\n",
    "    plt.colorbar()\n",
    "    # plt.show()\n",
    "    \n",
    "    "
   ]
  },
  {
   "cell_type": "code",
   "execution_count": 2,
   "metadata": {},
   "outputs": [
    {
     "name": "stdout",
     "output_type": "stream",
     "text": [
      "9750 4105\n"
     ]
    }
   ],
   "source": [
    "\n",
    "flist = glob.glob('../../czyc/test3/*.h5')\n",
    "flist.sort()\n",
    "test1_file_num = np.where(np.array(flist)=='../../czyc/test3/czyc_3km_GL_10m_frq_1kHz_sp_2m_UTC_20240104_070442.357.h5')[0][0] #5806 \n",
    "print(len(flist),test1_file_num)\n"
   ]
  },
  {
   "attachments": {},
   "cell_type": "markdown",
   "metadata": {},
   "source": [
    "skam speed： 1s /file\n",
    "\n",
    "hammer signal at （datetime，file num，span，channle ，clim rate ）\n",
    "20240104_065327（4061 , 3 , 890 , 1）\n",
    "\n",
    "20240104_070442 (4105 , 3 , 830 , 1)\n",
    "\n",
    "锤击点3_file = np.where(np.array(flist)=='../../czyc/test3/czyc_3km_GL_10m_frq_1kHz_sp_2m_UTC_20240104_070442.357.h5')[0][0]  #4105\n",
    "\n",
    "锤击点2_file = np.where(np.array(flist)=='../../czyc/test3/czyc_3km_GL_10m_frq_1kHz_sp_2m_UTC_20240104_065342.357.h5')[0][0]  #4061\n",
    "\n",
    "noise record at \n",
    "\n",
    "test 1 :test1_file_num = np.where(np.array(flist)=='../../czyc/test3/czyc_3km_GL_10m_frq_1kHz_sp_2m_UTC_20240104_060942.357.h5')[0][0] #3885\n",
    "\n",
    "test 4: test1_file_num = np.where(np.array(flist)=='../../czyc/test3/czyc_3km_GL_10m_frq_1kHz_sp_2m_UTC_20240104_180327.357.h5')[0][0] \n",
    "\n",
    "test 4: test1_file_num = np.where(np.array(flist)=='../../czyc/test3/czyc_3km_GL_10m_frq_1kHz_sp_2m_UTC_20240104_191327.357.h5')[0][0] \n",
    "\n"
   ]
  },
  {
   "attachments": {},
   "cell_type": "markdown",
   "metadata": {},
   "source": [
    "cal std per 0.2 second"
   ]
  },
  {
   "cell_type": "code",
   "execution_count": null,
   "metadata": {},
   "outputs": [
    {
     "ename": "",
     "evalue": "",
     "output_type": "error",
     "traceback": [
      "\u001b[1;31mRunning cells with 'Python 3.10.12' requires the ipykernel package.\n",
      "\u001b[1;31mRun the following command to install 'ipykernel' into the Python environment. \n",
      "\u001b[1;31mCommand: '/bin/python3 -m pip install ipykernel -U --user --force-reinstall'"
     ]
    }
   ],
   "source": [
    "\n",
    "# span_each_pic = 1 / 75\n",
    "# decimate_rate = 1\n",
    "# with open('example.csv', 'w' , encoding= 'utf-8',newline=\"\") as f:\n",
    "#     csv_writer = csv.writer(f)\n",
    "#     for n in range(0,140):\n",
    "#         timestring ,std = cal_std(flist , csv_writer,M=decimate_rate, start= test1_file_num + n ,span= span_each_pic)\n"
   ]
  },
  {
   "attachments": {},
   "cell_type": "markdown",
   "metadata": {},
   "source": [
    "skam for 4 min "
   ]
  },
  {
   "cell_type": "code",
   "execution_count": null,
   "metadata": {},
   "outputs": [
    {
     "ename": "",
     "evalue": "",
     "output_type": "error",
     "traceback": [
      "\u001b[1;31mRunning cells with 'Python 3.10.12' requires the ipykernel package.\n",
      "\u001b[1;31mRun the following command to install 'ipykernel' into the Python environment. \n",
      "\u001b[1;31mCommand: '/bin/python3 -m pip install ipykernel -U --user --force-reinstall'"
     ]
    }
   ],
   "source": [
    "# # %matplotlib ipympl\n",
    "# %matplotlib inline\n",
    "\n",
    "# path = '../output/test2_psd/'\n",
    "\n",
    "# if not os.path.exists(path):\n",
    "#     os.makedirs(path)\n",
    "#     print(\"Folder created\")\n",
    "# else:\n",
    "#     print(\"Folder already exists\")\n",
    "\n",
    "# span_each_pic = 16\n",
    "# decimate_rate = 1\n",
    "# for n in range(0,10):\n",
    "#     data , timestring , timeindex = skam(flist ,M=decimate_rate, start= test1_file_num + span_each_pic * n - 1,span= span_each_pic)\n",
    "#     x = data[60,:]\n",
    "#     nfft = 256\n",
    "#     fs = 1000\n",
    "#     plt.figure(figsize=(6,7))\n",
    "#     [Pxx1,f1] = plt.psd(x,                       # 随机信号\n",
    "#                     NFFT=nfft,               # 每个窗的长度\n",
    "#                     Fs=fs,                   # 采样频率\n",
    "#                     detrend='mean',          # 去掉均值\n",
    "#                     window=np.hanning(nfft), # 加汉尼窗\n",
    "#                     noverlap=int(nfft*3/4),  # 每个窗重叠75%的数据\n",
    "#                     sides='twosided')        # 求双边谱\n",
    "    \n",
    "#     plt.savefig(path+'/Figure '+str(n+1)+'ch_880_psd.png')\n",
    "#     plt.show()\n",
    "#     plt.close"
   ]
  },
  {
   "cell_type": "code",
   "execution_count": 3,
   "metadata": {},
   "outputs": [
    {
     "name": "stdout",
     "output_type": "stream",
     "text": [
      "Folder already exists\n"
     ]
    }
   ],
   "source": [
    "# %matplotlib ipympl\n",
    "%matplotlib inline\n",
    "\n",
    "path = '../output/test1_skam/'\n",
    "\n",
    "if not os.path.exists(path):\n",
    "    os.makedirs(path)\n",
    "    print(\"Folder created\")\n",
    "else:\n",
    "    print(\"Folder already exists\")\n",
    "\n",
    "span_each_pic = 12\n",
    "decimate_rate = 200\n",
    "for n in range(0,10):\n",
    "    data , timestring , timeindex = skam(flist ,M=decimate_rate, start= test1_file_num + span_each_pic * n - 1,span= span_each_pic)\n",
    "    data =  dp.das_preprocess(data)\n",
    "    plot_timeticks(data,timestring ,timeindex ,clim_rate=20 ,title =\"M=\"+str(decimate_rate)+\",date:20240105\" )\n",
    "    \n",
    "    plt.savefig(path+'/Figure '+str(n+1)+'_clim_rate_20.png')\n",
    "    plt.close"
   ]
  },
  {
   "attachments": {},
   "cell_type": "markdown",
   "metadata": {},
   "source": [
    "one channle "
   ]
  },
  {
   "cell_type": "code",
   "execution_count": null,
   "metadata": {},
   "outputs": [
    {
     "ename": "",
     "evalue": "",
     "output_type": "error",
     "traceback": [
      "\u001b[1;31mRunning cells with 'Python 3.10.12' requires the ipykernel package.\n",
      "\u001b[1;31mRun the following command to install 'ipykernel' into the Python environment. \n",
      "\u001b[1;31mCommand: '/bin/python3 -m pip install ipykernel -U --user --force-reinstall'"
     ]
    }
   ],
   "source": [
    "\n",
    "# ch=830\n",
    "# start_time = 0\n",
    "# pic_name = 'M='+str(decimate_rate)+' ,channel'+str(ch)\n",
    "# plt.figure(figsize=[20,12])\n",
    "# plt.xticks(timeindex[0:span_each_pic-start_time],timestring[start_time:],rotation = 60, ha = 'right')\n",
    "# plt.plot(data[ch,start_time*75:])\n",
    "# plt.title(pic_name)\n",
    "# # plt.savefig(path+str(n+1)+'.png')\n"
   ]
  },
  {
   "attachments": {},
   "cell_type": "markdown",
   "metadata": {},
   "source": [
    "noise overview"
   ]
  },
  {
   "cell_type": "code",
   "execution_count": null,
   "metadata": {},
   "outputs": [
    {
     "ename": "",
     "evalue": "",
     "output_type": "error",
     "traceback": [
      "\u001b[1;31mRunning cells with 'Python 3.10.12' requires the ipykernel package.\n",
      "\u001b[1;31mRun the following command to install 'ipykernel' into the Python environment. \n",
      "\u001b[1;31mCommand: '/bin/python3 -m pip install ipykernel -U --user --force-reinstall'"
     ]
    }
   ],
   "source": [
    "import librosa\n",
    "import glob\n",
    "from scipy import signal\n",
    "import numpy as np\n",
    "import matplotlib.pyplot as plt\n",
    "\n",
    "# Load the audio file\n",
    "path = '../output.。。。。/'\n",
    "AUDIO_FILE = '../噪音数据/2024.1.4_留仙大道噪声测试/测试5/测试5.m4a'\n",
    "samples, sample_rate = librosa.load(AUDIO_FILE, sr=None)\n",
    "\n",
    "print(samples.size)\n",
    "\n",
    "N = samples.size\n",
    "# i = 1\n",
    "samples = samples[ : 32421888]\n",
    "\n",
    "#pdt\n",
    "x = samples\n",
    "nfft = 1000\n",
    "fs = sample_rate\n",
    "plt.figure(figsize=(6,7))\n",
    "[Pxx1,f1] = plt.psd(x,                       # 随机信号\n",
    "                NFFT=nfft,               # 每个窗的长度\n",
    "                Fs=fs,                   # 采样频率\n",
    "                detrend='mean',          # 去掉均值\n",
    "                window=np.hanning(nfft), # 加汉尼窗\n",
    "                noverlap=int(nfft*3/4),  # 每个窗重叠75%的数据\n",
    "                sides='twosided')        # 求双边谱\n",
    "\n",
    "plt.savefig(path+'/test5_noise_psd.png')\n",
    "plt.show()\n",
    "plt.close\n",
    "\n",
    "\n"
   ]
  },
  {
   "cell_type": "code",
   "execution_count": null,
   "metadata": {},
   "outputs": [
    {
     "ename": "",
     "evalue": "",
     "output_type": "error",
     "traceback": [
      "\u001b[1;31mRunning cells with 'Python 3.10.12' requires the ipykernel package.\n",
      "\u001b[1;31mRun the following command to install 'ipykernel' into the Python environment. \n",
      "\u001b[1;31mCommand: '/bin/python3 -m pip install ipykernel -U --user --force-reinstall'"
     ]
    }
   ],
   "source": [
    "# #声波可视化：\n",
    "# import librosa.display\n",
    "# import matplotlib.pyplot as plt\n",
    "\n",
    "# # x-axis has been converted to time using our sample rate. \n",
    "# # matplotlib plt.plot(y), would output the same figure, but with sample \n",
    "# # number on the x-axis instead of seconds\n",
    "# plt.figure(figsize=(14, 5))\n",
    "# plt.title(\"visualize the sound wave\")\n",
    "# librosa.display.waveshow(samples, sr=sample_rate , color=\"blue\")\n",
    "\n",
    "\n",
    "# # use the decibel scale \n",
    "# plt.figure(figsize=(14, 5))\n",
    "# plt.title(\"use the decibel scale \")\n",
    "# db_sgram = librosa.amplitude_to_db(samples, ref=np.min)\n",
    "# librosa.display.waveshow(db_sgram, sr=sample_rate,color = \"red\")\n",
    "\n",
    "\n",
    "# # use the power scale \n",
    "# plt.figure(figsize=(14, 5))\n",
    "# plt.title(\"use the power scale \")\n",
    "# power_s= (np.abs(samples))**2\n",
    "# # print(samples[40:80], power_s[40:80])\n",
    "# plt.plot(power_s)\n",
    "\n",
    "# #声谱图\n",
    "# plt.figure(figsize=(14, 5))\n",
    "# plt.title(\"Spectrogram\")\n",
    "# sgram = librosa.stft(samples)\n",
    "# librosa.display.specshow(sgram)\n",
    "\n",
    "\n",
    "# # 使用梅尔刻度代替频率。\n",
    "# # use the mel-scale instead of raw frequency\n",
    "# plt.figure(figsize=(14, 5))\n",
    "# plt.title(\"use the mel-scale instead of raw frequency\")\n",
    "# sgram_mag, _ = librosa.magphase(sgram)\n",
    "# mel_scale_sgram = librosa.feature.melspectrogram(S=sgram_mag, sr=sample_rate)\n",
    "# librosa.display.specshow(mel_scale_sgram)\n",
    "\n",
    "\n",
    "# # use the decibel scale to get the final Mel Spectrogram\n",
    "# plt.figure(figsize=(14, 5))\n",
    "# plt.title(\"use the decibel scale to get the final Mel Spectrogram\")\n",
    "# mel_sgram = librosa.amplitude_to_db(mel_scale_sgram, ref=np.min)\n",
    "# librosa.display.specshow(mel_sgram, sr=sample_rate, x_axis='time', y_axis='mel')\n",
    "# plt.colorbar(format='%+2.0f dB')\n",
    "\n",
    "\n",
    "# plt.figure(figsize=(14, 5))\n",
    "# plt.title(\" MFCC (Mel Frequency Cepstral Coefficients)\")\n",
    "# mfcc = librosa.feature.mfcc(y=samples, sr=sample_rate,n_mfcc=20)\n",
    "# librosa.display.specshow(mfcc, sr=sample_rate,  x_axis='time')"
   ]
  },
  {
   "attachments": {},
   "cell_type": "markdown",
   "metadata": {},
   "source": [
    "相对于绘制频率与时间的常规声谱图，梅尔声谱图有两个关键不同：\n",
    "\n",
    "Y 轴为梅尔刻度而不是频率。\n",
    "使用分贝刻度代替振幅来指示颜色。\n",
    "深度学习模型通常使用梅尔声谱图而不是简单的声谱图。\n",
    "\n",
    "我们修改上面的声谱图代码，使用梅尔刻度代替频率。"
   ]
  },
  {
   "cell_type": "code",
   "execution_count": null,
   "metadata": {},
   "outputs": [
    {
     "ename": "",
     "evalue": "",
     "output_type": "error",
     "traceback": [
      "\u001b[1;31mRunning cells with 'Python 3.10.12' requires the ipykernel package.\n",
      "\u001b[1;31mRun the following command to install 'ipykernel' into the Python environment. \n",
      "\u001b[1;31mCommand: '/bin/python3 -m pip install ipykernel -U --user --force-reinstall'"
     ]
    }
   ],
   "source": [
    "import numpy as np\n",
    "import matplotlib\n",
    "import matplotlib.pyplot as plt\n",
    "import pandas as pd\n",
    "import glob\n",
    "# matplotlib.use('Agg')\n",
    "\n",
    "noise_df =pd.read_excel(\"../output/std.xls\", skiprows=6 , sheet_name=\"std_per_0.2_s\"  ,usecols=1)\n",
    "noise_df.plot(y='Recorded Value (dBA)', ax=plt.gca())\n",
    "    \n",
    "plt.show()\n",
    "    \n",
    "plt.grid()"
   ]
  },
  {
   "cell_type": "code",
   "execution_count": null,
   "metadata": {},
   "outputs": [
    {
     "ename": "",
     "evalue": "",
     "output_type": "error",
     "traceback": [
      "\u001b[1;31mRunning cells with 'Python 3.10.12' requires the ipykernel package.\n",
      "\u001b[1;31mRun the following command to install 'ipykernel' into the Python environment. \n",
      "\u001b[1;31mCommand: '/bin/python3 -m pip install ipykernel -U --user --force-reinstall'"
     ]
    }
   ],
   "source": []
  }
 ],
 "metadata": {
  "kernelspec": {
   "display_name": "py3.11",
   "language": "python",
   "name": "python3"
  },
  "language_info": {
   "codemirror_mode": {
    "name": "ipython",
    "version": 3
   },
   "file_extension": ".py",
   "mimetype": "text/x-python",
   "name": "python",
   "nbconvert_exporter": "python",
   "pygments_lexer": "ipython3",
   "version": "3.11.5"
  },
  "orig_nbformat": 4,
  "vscode": {
   "interpreter": {
    "hash": "589145a86ff47c0702b9b07b1f1ea869940002b58fc6d81363634b7541cd255b"
   }
  }
 },
 "nbformat": 4,
 "nbformat_minor": 2
}
