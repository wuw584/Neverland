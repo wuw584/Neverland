{
 "cells": [
  {
   "cell_type": "code",
   "execution_count": null,
   "metadata": {},
   "outputs": [],
   "source": [
    "import librosa\n",
    "import librosa.display\n",
    "import matplotlib.pyplot as plt\n",
    "\n",
    "# 加载音频文件\n",
    "audio_path = 'sample_audio.wav'\n",
    "audio, sr = librosa.load(audio_path)\n",
    "\n",
    "# 绘制音频波形图\n",
    "plt.figure(figsize=(10, 6))\n",
    "librosa.display.waveshow(audio, sr=sr)\n",
    "plt.title('Waveform')\n",
    "plt.xlabel('Time (s)')\n",
    "plt.ylabel('Amplitude')\n",
    "plt.show()\n",
    "\n",
    "# 绘制音频频谱图\n",
    "plt.figure(figsize=(10, 6))\n",
    "librosa.display.specshow(librosa.amplitude_to_db(librosa.stft(audio), ref=np.max), y_axis='log', x_axis='time')\n",
    "plt.colorbar(format='%+2.0f dB')\n",
    "plt.title('Spectrogram')\n",
    "plt.show()"
   ]
  },
  {
   "cell_type": "code",
   "execution_count": null,
   "metadata": {},
   "outputs": [],
   "source": [
    "import librosa.feature\n",
    "\n",
    "# 提取MFCC特征\n",
    "mfccs = librosa.feature.mfcc(audio, sr=sr, n_mfcc=13)\n",
    "\n",
    "# 可视化MFCC特征\n",
    "plt.figure(figsize=(10, 6))\n",
    "librosa.display.specshow(mfccs, x_axis='time')\n",
    "plt.colorbar()\n",
    "plt.title('MFCC')\n",
    "plt.xlabel('Time (s)')\n",
    "plt.ylabel('MFCC Coefficients')\n",
    "plt.show()"
   ]
  },
  {
   "cell_type": "code",
   "execution_count": null,
   "metadata": {},
   "outputs": [],
   "source": [
    "tempo, beat_frames = librosa.beat.beat_track(audio, sr=sr)\n",
    "\n",
    "# 输出节奏信息\n",
    "print(f'Tempo: {tempo} BPM')\n",
    "print(f'Beat frames: {beat_frames}')\n",
    "\n",
    "# 绘制节奏图\n",
    "plt.figure(figsize=(10, 6))\n",
    "librosa.display.waveshow(audio, sr=sr, alpha=0.5)\n",
    "plt.vlines(librosa.frames_to_time(beat_frames), -1, 1, color='r', alpha=0.7, label='Beats')\n",
    "plt.title('Beat Tracking')\n",
    "plt.legend()\n",
    "plt.show()"
   ]
  },
  {
   "attachments": {},
   "cell_type": "markdown",
   "metadata": {},
   "source": [
    "实际应用场景\n",
    "1. 音乐信息检索\n",
    "场景描述： 正在构建一个音乐信息检索系统，用户可以通过输入歌曲的音频文件或音频特征来搜索相似的音乐。Librosa可用于提取音频特征并计算相似度。"
   ]
  },
  {
   "cell_type": "code",
   "execution_count": null,
   "metadata": {},
   "outputs": [],
   "source": [
    "import librosa\n",
    "import numpy as np\n",
    "\n",
    "# 加载查询音频和数据库中的音频\n",
    "query_audio, query_sr = librosa.load('query_audio.wav')\n",
    "database_audio, database_sr = librosa.load('database_audio.wav')\n",
    "\n",
    "# 提取MFCC特征\n",
    "query_mfcc = librosa.feature.mfcc(query_audio, sr=query_sr)\n",
    "database_mfcc = librosa.feature.mfcc(database_audio, sr=database_sr)\n",
    "\n",
    "# 计算MFCC特征之间的相似度\n",
    "similarity = np.dot(query_mfcc.T, database_mfcc)\n",
    "\n",
    "# 找到最相似的音频\n",
    "most_similar_index = np.argmax(similarity)"
   ]
  },
  {
   "attachments": {},
   "cell_type": "markdown",
   "metadata": {},
   "source": [
    "2. 语音识别\n",
    "场景描述： 正在开发一个语音识别应用程序，用户可以通过麦克风录制音频并将其转换为文本。Librosa可用于音频特征提取，然后与语音识别模型一起使用。"
   ]
  },
  {
   "cell_type": "code",
   "execution_count": null,
   "metadata": {},
   "outputs": [],
   "source": [
    "import librosa\n",
    "import speech_recognition as sr\n",
    "\n",
    "# 录制音频\n",
    "r = sr.Recognizer()\n",
    "with sr.Microphone() as source:\n",
    "    print(\"请开始说话...\")\n",
    "    audio = r.listen(source)\n",
    "\n",
    "# 将音频转换为文本\n",
    "try:\n",
    "    text = r.recognize_google(audio)\n",
    "    print(\"识别结果：\", text)\n",
    "except sr.UnknownValueError:\n",
    "    print(\"无法识别音频\")\n",
    "except sr.RequestError as e:\n",
    "    print(f\"请求出错：{e}\")"
   ]
  },
  {
   "attachments": {},
   "cell_type": "markdown",
   "metadata": {},
   "source": [
    "3. 音频分类\n",
    "场景描述： 正在构建一个音频分类模型，可以将音频文件分类为不同的音乐风格或情感类别。Librosa可用于提取音频特征，然后与机器学习模型一起使用。"
   ]
  },
  {
   "cell_type": "code",
   "execution_count": null,
   "metadata": {},
   "outputs": [],
   "source": [
    "import librosa\n",
    "import numpy as np\n",
    "from sklearn.model_selection import train_test_split\n",
    "from sklearn.ensemble import RandomForestClassifier\n",
    "from sklearn.metrics import accuracy_score\n",
    "\n",
    "# 加载和提取音频特征\n",
    "data = []  # 存储特征和标签的列表\n",
    "\n",
    "for file_path in audio_files:\n",
    "    audio, sr = librosa.load(file_path)\n",
    "    mfccs = librosa.feature.mfcc(audio, sr=sr)\n",
    "    label = get_label_from_filename(file_path)\n",
    "    data.append((mfccs, label))\n",
    "\n",
    "# 数据准备和划分\n",
    "X = [item[0] for item in data]\n",
    "y = [item[1] for item in data]\n",
    "X_train, X_test, y_train, y_test = train_test_split(X, y, test_size=0.2, random_state=42)\n",
    "\n",
    "# 训练分类模型\n",
    "clf = RandomForestClassifier()\n",
    "clf.fit(X_train, y_train)\n",
    "\n",
    "# 预测并计算准确率\n",
    "y_pred = clf.predict(X_test)\n",
    "accuracy = accuracy_score(y_test, y_pred)\n",
    "print(\"准确率：\", accuracy)"
   ]
  },
  {
   "attachments": {},
   "cell_type": "markdown",
   "metadata": {},
   "source": [
    "4. 音频可视化工具\n",
    "场景描述： 正在构建一个音频编辑或音频处理工具，需要为用户提供音频可视化功能。Librosa可以用于生成音频波形图、频谱图和色度图，以便用户更好地理解音频。"
   ]
  },
  {
   "cell_type": "code",
   "execution_count": null,
   "metadata": {},
   "outputs": [],
   "source": [
    "import librosa\n",
    "import librosa.display\n",
    "import matplotlib.pyplot as plt\n",
    "\n",
    "# 加载音频文件\n",
    "audio, sr = librosa.load('audio_file.wav')\n",
    "\n",
    "# 绘制音频波形图\n",
    "plt.figure(figsize=(10, 6))\n",
    "librosa.display.waveshow(audio, sr=sr)\n",
    "plt.title('Waveform')\n",
    "plt.xlabel('Time (s)')\n",
    "plt.ylabel('Amplitude')\n",
    "plt.show()\n",
    "\n",
    "# 绘制音频频谱图\n",
    "plt.figure(figsize=(10, 6))\n",
    "librosa.display.specshow(librosa.amplitude_to_db(librosa.stft(audio), ref=np.max), y_axis='log', x_axis='time')\n",
    "plt.colorbar(format='%+2.0f dB')\n",
    "plt.title('Spectrogram')\n",
    "plt.show()"
   ]
  },
  {
   "attachments": {},
   "cell_type": "markdown",
   "metadata": {},
   "source": [
    "5. 音频处理\n",
    "场景描述： 需要对音频进行处理，例如去除噪音、改变音调、变速等。Librosa提供了一些音频处理工具，可实现这些任务。"
   ]
  },
  {
   "cell_type": "code",
   "execution_count": null,
   "metadata": {},
   "outputs": [],
   "source": [
    "import librosa\n",
    "\n",
    "# 加载音频文件\n",
    "audio, sr = librosa.load('audio_file.wav')\n",
    "\n",
    "# 去除噪音\n",
    "audio_denoised = librosa.effects.preemphasis(audio)\n",
    "\n",
    "# 改变音调\n",
    "pitch_shifted = librosa.effects.pitch_shift(audio, sr=sr, n_steps=2)\n",
    "\n",
    "# 变速\n",
    "speed_changed = librosa.effects.time_stretch(audio, 2.0)"
   ]
  },
  {
   "attachments": {},
   "cell_type": "markdown",
   "metadata": {},
   "source": []
  }
 ],
 "metadata": {
  "kernelspec": {
   "display_name": "Python 3",
   "language": "python",
   "name": "python3"
  },
  "language_info": {
   "name": "python",
   "version": "3.8.10"
  },
  "orig_nbformat": 4,
  "vscode": {
   "interpreter": {
    "hash": "916dbcbb3f70747c44a77c7bcd40155683ae19c65e1c03b4aa3499c5328201f1"
   }
  }
 },
 "nbformat": 4,
 "nbformat_minor": 2
}
